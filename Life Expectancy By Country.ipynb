{
 "cells": [
  {
   "cell_type": "markdown",
   "id": "21b01777",
   "metadata": {},
   "source": [
    "### import libraries"
   ]
  },
  {
   "cell_type": "code",
   "execution_count": 2,
   "id": "bce7051f",
   "metadata": {},
   "outputs": [],
   "source": [
    "import numpy as np\n",
    "import pandas as pd\n",
    "import matplotlib.pyplot as plt"
   ]
  },
  {
   "cell_type": "code",
   "execution_count": 5,
   "id": "6fd417c6",
   "metadata": {},
   "outputs": [
    {
     "name": "stdout",
     "output_type": "stream",
     "text": [
      "               Country  Life Expectancy          GDP\n",
      "0          Afghanistan         58.19375   340.015425\n",
      "1              Albania         75.15625  2119.726679\n",
      "2              Algeria         73.61875  2847.853392\n",
      "3               Angola         49.01875  1975.143045\n",
      "4  Antigua and Barbuda         75.05625  9759.305728\n",
      "[62.325     72.525     75.4421875]\n"
     ]
    }
   ],
   "source": [
    "\n",
    "data = pd.read_csv(\"country_data.csv\")\n",
    "#studying the data\n",
    "print(data.head())\n",
    "#isolate relevant column\n",
    "life_expectancy = data[\"Life Expectancy\"]\n",
    "# finding the quartiles\n",
    "life_expectancy_quartiles = np.quantile(life_expectancy,[0.25,0.5,0.75])\n",
    "print(life_expectancy_quartiles)\n"
   ]
  },
  {
   "cell_type": "code",
   "execution_count": 6,
   "id": "07ea2b62",
   "metadata": {},
   "outputs": [
    {
     "data": {
      "image/png": "[encoded data removed]",
      "text/plain": [
       "<Figure size 432x288 with 1 Axes>"
      ]
     },
     "metadata": {
      "needs_background": "light"
     },
     "output_type": "display_data"
    },
    {
     "name": "stdout",
     "output_type": "stream",
     "text": [
      "2938.0781152500003\n"
     ]
    }
   ],
   "source": [
    "#building the histogram\n",
    "plt.hist(life_expectancy)\n",
    "plt.show()\n",
    "#isolating gdp \n",
    "gdp = data[\"GDP\"]\n",
    "\n",
    "#getting the median\n",
    "median_gdp = np.median(gdp)\n",
    "print(median_gdp)\n"
   ]
  },
  {
   "cell_type": "code",
   "execution_count": null,
   "id": "08ed19a4",
   "metadata": {},
   "outputs": [],
   "source": [
    "# seperating the lower and higher gdps\n",
    "low_gdp = data[data['GDP'] <= median_gdp]\n",
    "high_gdp = data[data['GDP'] >= median_gdp]\n",
    "\n",
    "low_gdp_quartiles = np.quantile(low_gdp[\"Life Expectancy\"],[0.25,0.5,0.75])\n",
    "print(low_gdp_quartiles)\n",
    "high_gdp_quartiles = np.quantile(high_gdp[\"Life Expectancy\"],[0.25,0.5,0.75])\n",
    "print(high_gdp_quartiles)\n",
    "plt.hist(high_gdp[\"Life Expectancy\"], alpha = 0.5, label = \"High GDP\")\n",
    "plt.hist(low_gdp[\"Life Expectancy\"], alpha = 0.5, label = \"Low GDP\")\n",
    "plt.legend()\n",
    "plt.show()"
   ]
  }
 ],
 "metadata": {
  "kernelspec": {
   "display_name": "Python 3",
   "language": "python",
   "name": "python3"
  },
  "language_info": {
   "codemirror_mode": {
    "name": "ipython",
    "version": 3
   },
   "file_extension": ".py",
   "mimetype": "text/x-python",
   "name": "python",
   "nbconvert_exporter": "python",
   "pygments_lexer": "ipython3",
   "version": "3.8.8"
  }
 },
 "nbformat": 4,
 "nbformat_minor": 5
}
